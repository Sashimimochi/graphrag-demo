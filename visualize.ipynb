{
 "cells": [
  {
   "cell_type": "code",
   "execution_count": 1,
   "id": "2f47bf21-e26c-4847-9234-d199c31d4f25",
   "metadata": {},
   "outputs": [
    {
     "data": {
      "application/vnd.jupyter.widget-view+json": {
       "model_id": "2a5b5af6ee174f968c513daa211d8435",
       "version_major": 2,
       "version_minor": 0
      },
      "text/plain": [
       "GraphWidget(layout=Layout(height='800px', width='100%'))"
      ]
     },
     "metadata": {},
     "output_type": "display_data"
    }
   ],
   "source": [
    "import networkx as nx\n",
    "from yfiles_jupyter_graphs import GraphWidget\n",
    "from graphrag.index.operations.cluster_graph import cluster_graph\n",
    "import pandas as pd\n",
    "\n",
    "# converts the entities dataframe to a list of dicts for yfiles-jupyter-graphs\n",
    "def convert_entities_to_dicts(nodes, df, level=0):\n",
    "    \"\"\"Convert the entities dataframe to a list of dicts for yfiles-jupyter-graphs.\"\"\"\n",
    "    nodes_dict = {}\n",
    "    for node in nodes:\n",
    "        # Create a dictionary for each row and collect unique nodes\n",
    "        community_df = df[(df['title']==node['properties']['label']) & (df[\"level\"]==level)]\n",
    "        if len(community_df) > 0:\n",
    "            community_info = community_df.iloc[0].to_dict()\n",
    "        else:\n",
    "            community_info = {\"community\": None, \"title\": node['properties']['label']}\n",
    "        node[\"properties\"].update(community_info)\n",
    "    return nodes\n",
    "\n",
    "# map community to a color\n",
    "def community_to_color(community):\n",
    "    \"\"\"Map a community to a color.\"\"\"\n",
    "    colors = [\n",
    "        \"crimson\",\n",
    "        \"darkorange\",\n",
    "        \"indigo\",\n",
    "        \"cornflowerblue\",\n",
    "        \"cyan\",\n",
    "        \"teal\",\n",
    "        \"green\",\n",
    "        \"gold\",\n",
    "        \"brown\",\n",
    "    ]\n",
    "    return (\n",
    "        colors[int(community) % len(colors)] if community is not None else \"lightgray\"\n",
    "    )\n",
    "\n",
    "\n",
    "def edge_to_source_community(edge):\n",
    "    \"\"\"Get the community of the source node of an edge.\"\"\"\n",
    "    source_node = next(\n",
    "        (entry for entry in w.nodes if entry[\"id\"] == edge[\"start\"]),\n",
    "        None,\n",
    "    )\n",
    "    source_node_community = source_node[\"properties\"][\"community\"]\n",
    "    return source_node_community if source_node_community is not None else None\n",
    "\n",
    "\n",
    "dataset = \"rag\"\n",
    "filepath = f'./{dataset}/graph_chunk_entity_relation.graphml'\n",
    "\n",
    "# GraphWidget インスタンスの作成\n",
    "G = nx.read_graphml(filepath)\n",
    "w = GraphWidget(graph=G)\n",
    "\n",
    "# クラスタリングを実行\n",
    "strategy = {\n",
    "    \"type\": \"leiden\",\n",
    "    \"max_cluster_size\": 10,  # クラスタの最大サイズ\n",
    "    \"use_lcc\": True,         # 最大全結合成分のみを使用\n",
    "    \"seed\": 0xDEADBEEF,      # ランダムシード\n",
    "    \"levels\": None,          # すべてのレベルを使用\n",
    "    \"verbose\": True          # ログを表示\n",
    "}\n",
    "\n",
    "communities = cluster_graph(G, strategy)\n",
    "base_communities = pd.DataFrame(\n",
    "  communities, columns=pd.Index([\"level\", \"community\", \"parent\", \"title\"])\n",
    ").explode(\"title\")\n",
    "base_communities[\"community\"] = base_communities[\"community\"].astype(int)\n",
    "\n",
    "w.directed = True\n",
    "w.nodes = convert_entities_to_dicts(w.get_nodes(), base_communities, level=0)\n",
    "\n",
    "# show title on the node\n",
    "w.node_label_mapping = \"label\"\n",
    "w.node_color_mapping = lambda node: community_to_color(node[\"properties\"][\"community\"])\n",
    "w.edge_color_mapping = lambda edge: community_to_color(edge_to_source_community(edge))\n",
    "# use weight for edge thickness\n",
    "w.edge_thickness_factor_mapping = \"weight\"\n",
    "\n",
    "# 結果を表示\n",
    "w.circular_layout()\n",
    "w.show()"
   ]
  },
  {
   "cell_type": "code",
   "execution_count": 125,
   "id": "3c64e1b6-6e54-45b8-8039-0f99fe59f2ff",
   "metadata": {},
   "outputs": [
    {
     "data": {
      "text/plain": [
       "{'id': 0,\n",
       " 'properties': {'entity_type': '\"CATEGORY\"',\n",
       "  'description': '\"HTML は、Webページを作成するためのマークアップ言語です。Streamlitでは、HTMLを直接記述する必要がありません。\"<SEP>\"Webページの構造を作るためのマークアップ言語。Streamlitでは不要。\"',\n",
       "  'source_id': 'chunk-1d8cebb67957c49908664e642b8995c1<SEP>chunk-6c8e35d01b434c6d98c0dd5f33f7ca37',\n",
       "  'label': '\"HTML\"',\n",
       "  'level': 0,\n",
       "  'community': 4,\n",
       "  'parent': -1,\n",
       "  'title': '\"HTML\"'},\n",
       " 'color': 'cyan',\n",
       " 'styles': {},\n",
       " 'label': '\"HTML\"',\n",
       " 'scale_factor': 1.0,\n",
       " 'type': 'cyan',\n",
       " 'size': (55.0, 55.0),\n",
       " 'position': (0.0, 0.0)}"
      ]
     },
     "metadata": {},
     "output_type": "display_data"
    },
    {
     "name": "stdout",
     "output_type": "stream",
     "text": [
      "========================================================================================================================================================================================================\n"
     ]
    },
    {
     "data": {
      "text/html": [
       "<div>\n",
       "<style scoped>\n",
       "    .dataframe tbody tr th:only-of-type {\n",
       "        vertical-align: middle;\n",
       "    }\n",
       "\n",
       "    .dataframe tbody tr th {\n",
       "        vertical-align: top;\n",
       "    }\n",
       "\n",
       "    .dataframe thead th {\n",
       "        text-align: right;\n",
       "    }\n",
       "</style>\n",
       "<table border=\"1\" class=\"dataframe\">\n",
       "  <thead>\n",
       "    <tr style=\"text-align: right;\">\n",
       "      <th></th>\n",
       "      <th>level</th>\n",
       "      <th>community</th>\n",
       "      <th>parent</th>\n",
       "      <th>title</th>\n",
       "    </tr>\n",
       "  </thead>\n",
       "  <tbody>\n",
       "    <tr>\n",
       "      <th>4</th>\n",
       "      <td>0</td>\n",
       "      <td>4</td>\n",
       "      <td>-1</td>\n",
       "      <td>\"HTML\"</td>\n",
       "    </tr>\n",
       "    <tr>\n",
       "      <th>20</th>\n",
       "      <td>1</td>\n",
       "      <td>20</td>\n",
       "      <td>4</td>\n",
       "      <td>\"HTML\"</td>\n",
       "    </tr>\n",
       "  </tbody>\n",
       "</table>\n",
       "</div>"
      ],
      "text/plain": [
       "    level  community  parent   title\n",
       "4       0          4      -1  \"HTML\"\n",
       "20      1         20       4  \"HTML\""
      ]
     },
     "metadata": {},
     "output_type": "display_data"
    },
    {
     "name": "stdout",
     "output_type": "stream",
     "text": [
      "========================================================================================================================================================================================================\n"
     ]
    },
    {
     "data": {
      "text/plain": [
       "{'id': 0,\n",
       " 'start': 0,\n",
       " 'end': 44,\n",
       " 'properties': {'weight': 9.0,\n",
       "  'description': '\"Streamlitを使うことで、HTMLの知識がなくてもWebアプリを作成できる。\"',\n",
       "  'keywords': '\"代替技術\"',\n",
       "  'source_id': 'chunk-6c8e35d01b434c6d98c0dd5f33f7ca37'},\n",
       " 'color': 'cyan',\n",
       " 'thickness_factor': 9.0,\n",
       " 'directed': True,\n",
       " 'styles': {},\n",
       " 'label': ''}"
      ]
     },
     "metadata": {},
     "output_type": "display_data"
    }
   ],
   "source": [
    "display(w.get_nodes()[0])\n",
    "print(\"=\"*200)\n",
    "display(base_communities[base_communities[\"title\"]=='\"HTML\"'])\n",
    "print(\"=\"*200)\n",
    "display(w.get_edges()[0])"
   ]
  },
  {
   "cell_type": "code",
   "execution_count": null,
   "id": "89e52e1a-57f2-4d3a-b089-885f79e6a764",
   "metadata": {},
   "outputs": [],
   "source": []
  }
 ],
 "metadata": {
  "kernelspec": {
   "display_name": "Python 3 (ipykernel)",
   "language": "python",
   "name": "python3"
  },
  "language_info": {
   "codemirror_mode": {
    "name": "ipython",
    "version": 3
   },
   "file_extension": ".py",
   "mimetype": "text/x-python",
   "name": "python",
   "nbconvert_exporter": "python",
   "pygments_lexer": "ipython3",
   "version": "3.12.10"
  }
 },
 "nbformat": 4,
 "nbformat_minor": 5
}
